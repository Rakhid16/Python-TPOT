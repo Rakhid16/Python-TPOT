{
 "cells": [
  {
   "cell_type": "markdown",
   "metadata": {},
   "source": [
    "Berikut adalah langkah-langkah dalam menggunakan TPOT untuk mencari algoritma pembelajaran mesin beserta parameternya."
   ]
  },
  {
   "cell_type": "markdown",
   "metadata": {},
   "source": [
    "## 1. Impor modul"
   ]
  },
  {
   "cell_type": "code",
   "execution_count": 1,
   "metadata": {
    "scrolled": true
   },
   "outputs": [],
   "source": [
    "from tpot import TPOTRegressor\n",
    "from sklearn.model_selection import train_test_split\n",
    "import pandas as pd \n",
    "import numpy as np"
   ]
  },
  {
   "cell_type": "markdown",
   "metadata": {},
   "source": [
    "<i>Library</i>/modul yang dibutuhkan cuma empat aja nih, yaitu :<br>\n",
    "1 TPOT => Buat nyari algoritma pembelajaran mesih & parameter yang paling optimal.<br>\n",
    "2 sklearn => Untuk memisah(membagi) <i>dataset</i> menjadi data latih dan data uji.<br>\n",
    "3 Pandas => Buat memuat <i>dataset</i>.<br>\n",
    "4 NumPy => Untuk menjadikan label yang ingin diprediksi menjadi <i>array</i> satu dimensi."
   ]
  },
  {
   "cell_type": "markdown",
   "metadata": {},
   "source": [
    "## 2. Muat <i>dataset</i>"
   ]
  },
  {
   "cell_type": "code",
   "execution_count": 2,
   "metadata": {
    "scrolled": false
   },
   "outputs": [
    {
     "data": {
      "text/html": [
       "<div>\n",
       "<style scoped>\n",
       "    .dataframe tbody tr th:only-of-type {\n",
       "        vertical-align: middle;\n",
       "    }\n",
       "\n",
       "    .dataframe tbody tr th {\n",
       "        vertical-align: top;\n",
       "    }\n",
       "\n",
       "    .dataframe thead th {\n",
       "        text-align: right;\n",
       "    }\n",
       "</style>\n",
       "<table border=\"1\" class=\"dataframe\">\n",
       "  <thead>\n",
       "    <tr style=\"text-align: right;\">\n",
       "      <th></th>\n",
       "      <th>longitudinal_pos</th>\n",
       "      <th>prismatic_coef</th>\n",
       "      <th>length_displac</th>\n",
       "      <th>beam_draught ratio</th>\n",
       "      <th>length_beam ratio</th>\n",
       "      <th>froude num</th>\n",
       "      <th>residuary</th>\n",
       "    </tr>\n",
       "  </thead>\n",
       "  <tbody>\n",
       "    <tr>\n",
       "      <th>0</th>\n",
       "      <td>-2.3</td>\n",
       "      <td>0.568</td>\n",
       "      <td>4.78</td>\n",
       "      <td>3.99</td>\n",
       "      <td>3.17</td>\n",
       "      <td>0.125</td>\n",
       "      <td>0.11</td>\n",
       "    </tr>\n",
       "    <tr>\n",
       "      <th>1</th>\n",
       "      <td>-2.3</td>\n",
       "      <td>0.568</td>\n",
       "      <td>4.78</td>\n",
       "      <td>3.99</td>\n",
       "      <td>3.17</td>\n",
       "      <td>0.150</td>\n",
       "      <td>0.27</td>\n",
       "    </tr>\n",
       "    <tr>\n",
       "      <th>2</th>\n",
       "      <td>-2.3</td>\n",
       "      <td>0.568</td>\n",
       "      <td>4.78</td>\n",
       "      <td>3.99</td>\n",
       "      <td>3.17</td>\n",
       "      <td>0.175</td>\n",
       "      <td>0.47</td>\n",
       "    </tr>\n",
       "    <tr>\n",
       "      <th>3</th>\n",
       "      <td>-2.3</td>\n",
       "      <td>0.568</td>\n",
       "      <td>4.78</td>\n",
       "      <td>3.99</td>\n",
       "      <td>3.17</td>\n",
       "      <td>0.200</td>\n",
       "      <td>0.78</td>\n",
       "    </tr>\n",
       "    <tr>\n",
       "      <th>4</th>\n",
       "      <td>-2.3</td>\n",
       "      <td>0.568</td>\n",
       "      <td>4.78</td>\n",
       "      <td>3.99</td>\n",
       "      <td>3.17</td>\n",
       "      <td>0.225</td>\n",
       "      <td>1.18</td>\n",
       "    </tr>\n",
       "    <tr>\n",
       "      <th>...</th>\n",
       "      <td>...</td>\n",
       "      <td>...</td>\n",
       "      <td>...</td>\n",
       "      <td>...</td>\n",
       "      <td>...</td>\n",
       "      <td>...</td>\n",
       "      <td>...</td>\n",
       "    </tr>\n",
       "    <tr>\n",
       "      <th>303</th>\n",
       "      <td>-2.3</td>\n",
       "      <td>0.600</td>\n",
       "      <td>4.34</td>\n",
       "      <td>4.23</td>\n",
       "      <td>2.73</td>\n",
       "      <td>0.350</td>\n",
       "      <td>8.47</td>\n",
       "    </tr>\n",
       "    <tr>\n",
       "      <th>304</th>\n",
       "      <td>-2.3</td>\n",
       "      <td>0.600</td>\n",
       "      <td>4.34</td>\n",
       "      <td>4.23</td>\n",
       "      <td>2.73</td>\n",
       "      <td>0.375</td>\n",
       "      <td>12.27</td>\n",
       "    </tr>\n",
       "    <tr>\n",
       "      <th>305</th>\n",
       "      <td>-2.3</td>\n",
       "      <td>0.600</td>\n",
       "      <td>4.34</td>\n",
       "      <td>4.23</td>\n",
       "      <td>2.73</td>\n",
       "      <td>0.400</td>\n",
       "      <td>19.59</td>\n",
       "    </tr>\n",
       "    <tr>\n",
       "      <th>306</th>\n",
       "      <td>-2.3</td>\n",
       "      <td>0.600</td>\n",
       "      <td>4.34</td>\n",
       "      <td>4.23</td>\n",
       "      <td>2.73</td>\n",
       "      <td>0.425</td>\n",
       "      <td>30.48</td>\n",
       "    </tr>\n",
       "    <tr>\n",
       "      <th>307</th>\n",
       "      <td>-2.3</td>\n",
       "      <td>0.600</td>\n",
       "      <td>4.34</td>\n",
       "      <td>4.23</td>\n",
       "      <td>2.73</td>\n",
       "      <td>0.450</td>\n",
       "      <td>46.66</td>\n",
       "    </tr>\n",
       "  </tbody>\n",
       "</table>\n",
       "<p>308 rows × 7 columns</p>\n",
       "</div>"
      ],
      "text/plain": [
       "     longitudinal_pos  prismatic_coef  length_displac  beam_draught ratio  \\\n",
       "0                -2.3           0.568            4.78                3.99   \n",
       "1                -2.3           0.568            4.78                3.99   \n",
       "2                -2.3           0.568            4.78                3.99   \n",
       "3                -2.3           0.568            4.78                3.99   \n",
       "4                -2.3           0.568            4.78                3.99   \n",
       "..                ...             ...             ...                 ...   \n",
       "303              -2.3           0.600            4.34                4.23   \n",
       "304              -2.3           0.600            4.34                4.23   \n",
       "305              -2.3           0.600            4.34                4.23   \n",
       "306              -2.3           0.600            4.34                4.23   \n",
       "307              -2.3           0.600            4.34                4.23   \n",
       "\n",
       "     length_beam ratio  froude num  residuary  \n",
       "0                 3.17       0.125       0.11  \n",
       "1                 3.17       0.150       0.27  \n",
       "2                 3.17       0.175       0.47  \n",
       "3                 3.17       0.200       0.78  \n",
       "4                 3.17       0.225       1.18  \n",
       "..                 ...         ...        ...  \n",
       "303               2.73       0.350       8.47  \n",
       "304               2.73       0.375      12.27  \n",
       "305               2.73       0.400      19.59  \n",
       "306               2.73       0.425      30.48  \n",
       "307               2.73       0.450      46.66  \n",
       "\n",
       "[308 rows x 7 columns]"
      ]
     },
     "execution_count": 2,
     "metadata": {},
     "output_type": "execute_result"
    }
   ],
   "source": [
    "data = pd.read_csv('yacht_hydrodynamics.csv')\n",
    "data"
   ]
  },
  {
   "cell_type": "markdown",
   "metadata": {},
   "source": [
    "Data yang kita pake itu data hidrodinamika kapal pesiar. (<i>nah lo</i>)<br>\n",
    "Klik link ini kalo kalian pengen tau lebih lanjut mengenai <i>dataset</i>'nya :<br>\n",
    "https://archive.ics.uci.edu/ml/datasets/Yacht+Hydrodynamics"
   ]
  },
  {
   "cell_type": "markdown",
   "metadata": {},
   "source": [
    "## 3. Bagi <i>dataset'nya</i>"
   ]
  },
  {
   "cell_type": "markdown",
   "metadata": {},
   "source": [
    "Karena <i>dataset</i>  kita cuma satu jadinya kudu dibagi.<br>\n",
    "Berapa persen yang dijadiin data uji sama berapa persen sisanya yang kudu dijadiin data latih."
   ]
  },
  {
   "cell_type": "code",
   "execution_count": 3,
   "metadata": {},
   "outputs": [],
   "source": [
    "X_train, X_test, y_train, y_test = train_test_split(data.drop(axis=0, columns='residuary'),\n",
    "                                                    data['residuary'],\n",
    "                                                    train_size=0.7,\n",
    "                                                    test_size=0.3)"
   ]
  },
  {
   "cell_type": "markdown",
   "metadata": {},
   "source": [
    "X_train => seluruh data kita kecuali kolom <b>residuary</b>.<br>\n",
    "X_test => data yang berada di kolom <b>residuary</b>.<br>\n",
    "y_train => 70% dari jumlah keseluruhan data.<br>\n",
    "y_test => 30% dari jumlah keseluruhan data."
   ]
  },
  {
   "cell_type": "markdown",
   "metadata": {},
   "source": [
    "## 4. Cari algoritma dan parameter'nya"
   ]
  },
  {
   "cell_type": "markdown",
   "metadata": {},
   "source": [
    "Pada bagian inilah si TPOT beraksi.<br>\n",
    "Normalnya dari generasi ke generasi nilai <a href=\"https://id.wikipedia.org/wiki/Validasi-_Silang_(statistik)\"><i>cross validation</i></a>'nya itu semakin membaik."
   ]
  },
  {
   "cell_type": "code",
   "execution_count": 4,
   "metadata": {
    "scrolled": true
   },
   "outputs": [
    {
     "name": "stdout",
     "output_type": "stream",
     "text": [
      "Warning: xgboost.XGBRegressor is not available and will not be used by TPOT.\n"
     ]
    },
    {
     "data": {
      "application/vnd.jupyter.widget-view+json": {
       "model_id": "e85db300cf9d4edb8b5a488ec0c51d56",
       "version_major": 2,
       "version_minor": 0
      },
      "text/plain": [
       "HBox(children=(FloatProgress(value=0.0, description='Optimization Progress', max=300.0, style=ProgressStyle(de…"
      ]
     },
     "metadata": {},
     "output_type": "display_data"
    },
    {
     "name": "stdout",
     "output_type": "stream",
     "text": [
      "Generation 1 - Current best internal CV score: -1.6694356285108465\n",
      "Generation 2 - Current best internal CV score: -1.6694356285108465\n",
      "Generation 3 - Current best internal CV score: -1.6694356285108465\n",
      "Generation 4 - Current best internal CV score: -1.600468506198806\n",
      "Generation 5 - Current best internal CV score: -1.4890733904949598\n",
      "\n",
      "Best pipeline: ElasticNetCV(AdaBoostRegressor(AdaBoostRegressor(RandomForestRegressor(input_matrix, bootstrap=True, max_features=0.9000000000000001, min_samples_leaf=1, min_samples_split=2, n_estimators=100), learning_rate=0.001, loss=linear, n_estimators=100), learning_rate=0.5, loss=square, n_estimators=100), l1_ratio=0.4, tol=0.0001)\n"
     ]
    },
    {
     "data": {
      "text/plain": [
       "TPOTRegressor(config_dict=None, crossover_rate=0.1, cv=5,\n",
       "              disable_update_check=False, early_stop=None, generations=5,\n",
       "              max_eval_time_mins=5, max_time_mins=None, memory=None,\n",
       "              mutation_rate=0.9, n_jobs=1, offspring_size=None,\n",
       "              periodic_checkpoint_folder=None, population_size=50,\n",
       "              random_state=None, scoring=None, subsample=1.0, template=None,\n",
       "              use_dask=False, verbosity=2, warm_start=False)"
      ]
     },
     "execution_count": 4,
     "metadata": {},
     "output_type": "execute_result"
    }
   ],
   "source": [
    "tpot = TPOTRegressor(generations=5, population_size=50, verbosity=2)\n",
    "tpot.fit(X_train, y_train)"
   ]
  },
  {
   "cell_type": "markdown",
   "metadata": {},
   "source": [
    "Nah sudah ketahuan kan sekarang algortima dan parameter apa yang cocok sama <i>dataset</i> tersebut.<br>\n",
    "Ingat <b>banyaknya data berbanding lurus dengan lamanya proses iterasi</b>."
   ]
  },
  {
   "cell_type": "markdown",
   "metadata": {},
   "source": [
    "## 5. Cek <i>error rate</i>"
   ]
  },
  {
   "cell_type": "markdown",
   "metadata": {},
   "source": [
    "Kalo kita mau tau seberapa akurat sih algoritma yang dipilihin sama TPOT tinggal ketik aja ini :"
   ]
  },
  {
   "cell_type": "code",
   "execution_count": 5,
   "metadata": {
    "scrolled": true
   },
   "outputs": [
    {
     "name": "stdout",
     "output_type": "stream",
     "text": [
      "-1.7575023613354137\n"
     ]
    }
   ],
   "source": [
    "print(tpot.score(X_test, y_test))"
   ]
  },
  {
   "cell_type": "markdown",
   "metadata": {},
   "source": [
    "Pada klasifikasi akurasi tertinggi adalah 100%/1.0 sedangkan pada regresi/prediksi akurasi tertinggi itu ketika nilai dari suatu galat sangat kecil(mendekati 0). Nilai ini dapat dicari dengan menggunakan rumus <a href=\"https://en.wikipedia.org/wiki/Mean_squared_error\"><i>Mean squred error</i></a>."
   ]
  },
  {
   "cell_type": "markdown",
   "metadata": {},
   "source": [
    "## 6. Ekspor <i>pipeline</i>"
   ]
  },
  {
   "cell_type": "code",
   "execution_count": 6,
   "metadata": {},
   "outputs": [],
   "source": [
    "tpot.export(\"regressor.py\")"
   ]
  },
  {
   "cell_type": "markdown",
   "metadata": {},
   "source": [
    "hasil ekspor'nya bisa di lihat di <a href=\"https://github.com/Rakhid16/Python-TPOT/blob/master/regressor.py\">sini</a> ya!<br>\n",
    "Sekian dari saya, semoga bermanfaat! :)"
   ]
  },
  {
   "cell_type": "code",
   "execution_count": null,
   "metadata": {},
   "outputs": [],
   "source": []
  }
 ],
 "metadata": {
  "kernelspec": {
   "display_name": "Python 3",
   "language": "python",
   "name": "python3"
  },
  "language_info": {
   "codemirror_mode": {
    "name": "ipython",
    "version": 3
   },
   "file_extension": ".py",
   "mimetype": "text/x-python",
   "name": "python",
   "nbconvert_exporter": "python",
   "pygments_lexer": "ipython3",
   "version": "3.6.9"
  }
 },
 "nbformat": 4,
 "nbformat_minor": 2
}
